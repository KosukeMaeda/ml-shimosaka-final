{
 "cells": [
  {
   "cell_type": "code",
   "execution_count": 7,
   "metadata": {},
   "outputs": [],
   "source": [
    "# download mnist-dataset\n",
    "import gzip\n",
    "import os\n",
    "import sys\n",
    "import struct\n",
    "import numpy as np\n",
    "import time\n",
    "\n",
    "def read_image(fi):\n",
    "    magic, n, rows, columns = struct.unpack(\">IIII\", fi.read(16))\n",
    "    assert magic == 0x00000803\n",
    "    assert rows == 28\n",
    "    assert columns == 28\n",
    "    rawbuffer = fi.read()\n",
    "    assert len(rawbuffer) == n * rows * columns\n",
    "    rawdata = np.frombuffer(rawbuffer, dtype='>u1', count=n*rows*columns)\n",
    "    return rawdata.reshape(n, rows, columns).astype(np.float32) / 255.0\n",
    "\n",
    "def read_label(fi):\n",
    "    magic, n = struct.unpack(\">II\", fi.read(8))\n",
    "    assert magic == 0x00000801\n",
    "    rawbuffer = fi.read()\n",
    "    assert len(rawbuffer) == n\n",
    "    return np.frombuffer(rawbuffer, dtype='>u1', count=n)\n",
    "\n",
    "if __name__ == '__main__':\n",
    "    if not os.path.exists('./mnist.npz'):\n",
    "        os.system('wget -N http://yann.lecun.com/exdb/mnist/train-images-idx3-ubyte.gz')\n",
    "        os.system('wget -N http://yann.lecun.com/exdb/mnist/train-labels-idx1-ubyte.gz')\n",
    "        os.system('wget -N http://yann.lecun.com/exdb/mnist/t10k-images-idx3-ubyte.gz')\n",
    "        os.system('wget -N http://yann.lecun.com/exdb/mnist/t10k-labels-idx1-ubyte.gz')\n",
    "\n",
    "        np.savez_compressed(\n",
    "            'mnist',\n",
    "            train_x=read_image(gzip.open('train-images-idx3-ubyte.gz', 'rb')),\n",
    "            train_y=read_label(gzip.open('train-labels-idx1-ubyte.gz', 'rb')),\n",
    "            test_x=read_image(gzip.open('t10k-images-idx3-ubyte.gz', 'rb')),\n",
    "            test_y=read_label(gzip.open('t10k-labels-idx1-ubyte.gz', 'rb'))\n",
    "        )\n",
    "\n",
    "        os.system('rm *.gz')"
   ]
  },
  {
   "cell_type": "code",
   "execution_count": 8,
   "metadata": {},
   "outputs": [],
   "source": [
    "# load dataset\n",
    "data = np.load('mnist.npz')\n",
    "\n",
    "data_train = data['train_x'].reshape(-1, 28*28)\n",
    "label_train = data['train_y']\n",
    "data_test = data['test_x'].reshape(-1, 28*28)\n",
    "label_test = data['test_y']"
   ]
  },
  {
   "cell_type": "code",
   "execution_count": 9,
   "metadata": {},
   "outputs": [
    {
     "name": "stdout",
     "output_type": "stream",
     "text": [
      "Finish training in 105.47698211669922s.\n",
      "Test accuracy is 91.84%\n",
      "Confusion matrix is shown below.\n",
      "[[ 961    0    2    1    1    4    6    3    1    1]\n",
      " [   0 1112    3    2    0    1    5    1   11    0]\n",
      " [  11   11  914   18   10    4   13   12   36    3]\n",
      " [   4    0   19  917    2   23    5   12   19    9]\n",
      " [   1    4    6    3  913    0    9    3    5   38]\n",
      " [   8    2    0   38   12  771   17    7   29    8]\n",
      " [   7    4    7    2    5   21  909    1    2    0]\n",
      " [   2    8   23    5    7    1    1  947    4   30]\n",
      " [  11   13    8   19   14   31    8   13  844   13]\n",
      " [   7    8    2   15   31   12    0   26   12  896]]\n"
     ]
    }
   ],
   "source": [
    "# SVM\n",
    "from sklearn import datasets, model_selection, svm, metrics\n",
    "\n",
    "clf = svm.LinearSVC()\n",
    "t = time.time()\n",
    "clf.fit(data_train, label_train)\n",
    "print(\"Finish training in {}s.\".format(time.time() - t))\n",
    "\n",
    "pre = clf.predict(data_test)\n",
    "ac_score = metrics.accuracy_score(label_test, pre)\n",
    "print('Test accuracy is {:.2%}'.format(ac_score))\n",
    "\n",
    "co_mat = metrics.confusion_matrix(label_test, pre)\n",
    "print(\"Confusion matrix is shown below.\")\n",
    "print(co_mat)"
   ]
  },
  {
   "cell_type": "code",
   "execution_count": 10,
   "metadata": {},
   "outputs": [
    {
     "name": "stdout",
     "output_type": "stream",
     "text": [
      "Finish training in 39.710243940353394s.\n",
      "Test accuracy is 97.05%\n",
      "Confusion matrix is shown below.\n",
      "[[ 974    1    1    0    0    1    2    1    0    0]\n",
      " [   0 1133    2    0    0    0    0    0    0    0]\n",
      " [  10    9  996    2    0    0    0   13    2    0]\n",
      " [   0    2    4  976    1   13    1    7    3    3]\n",
      " [   1    6    0    0  950    0    4    2    0   19]\n",
      " [   6    1    0   11    2  859    5    1    3    4]\n",
      " [   5    3    0    0    3    3  944    0    0    0]\n",
      " [   0   21    5    0    1    0    0  991    0   10]\n",
      " [   8    2    4   16    8   11    3    4  914    4]\n",
      " [   4    5    2    8    9    2    1    8    2  968]]\n"
     ]
    }
   ],
   "source": [
    "# K-Neighbor\n",
    "from sklearn.neighbors import KNeighborsClassifier\n",
    "\n",
    "clf = KNeighborsClassifier(n_neighbors=3)\n",
    "t = time.time()\n",
    "clf.fit(data_train, label_train)\n",
    "print(\"Finish training in {}s.\".format(time.time() - t))\n",
    "\n",
    "pre = clf.predict(data_test)\n",
    "ac_score = metrics.accuracy_score(label_test, pre)\n",
    "print('Test accuracy is {:.2%}'.format(ac_score))\n",
    "\n",
    "co_mat = metrics.confusion_matrix(label_test, pre)\n",
    "print(\"Confusion matrix is shown below.\")\n",
    "print(co_mat)"
   ]
  },
  {
   "cell_type": "code",
   "execution_count": 11,
   "metadata": {},
   "outputs": [
    {
     "name": "stdout",
     "output_type": "stream",
     "text": [
      "Finish training in 4.271898031234741s.\n",
      "Test accuracy is 94.68%\n",
      "Confusion matrix is shown below.\n",
      "[[ 969    2    1    0    0    0    4    1    2    1]\n",
      " [   0 1120    4    4    1    1    2    0    3    0]\n",
      " [   9    1  980    5    3    1    6   11   14    2]\n",
      " [   1    1   12  955    0   16    1    7   12    5]\n",
      " [   2    3    2    1  936    0    6    3    8   21]\n",
      " [   7    2    2   34    8  812   10    2    5   10]\n",
      " [  16    3    3    1    4   12  917    0    2    0]\n",
      " [   4    8   27    1    6    0    0  966    4   12]\n",
      " [   6    1   13   22    6   16    7    9  886    8]\n",
      " [   9    4    6   11   29    8    1    7    7  927]]\n"
     ]
    }
   ],
   "source": [
    "# Random-Forest\n",
    "from sklearn.ensemble import RandomForestClassifier\n",
    "\n",
    "clf = RandomForestClassifier(random_state=0)\n",
    "t = time.time()\n",
    "clf.fit(data_train, label_train)\n",
    "print(\"Finish training in {}s.\".format(time.time() - t))\n",
    "\n",
    "pre = clf.predict(data_test)\n",
    "ac_score = metrics.accuracy_score(label_test, pre)\n",
    "print('Test accuracy is {:.2%}'.format(ac_score))\n",
    "\n",
    "co_mat = metrics.confusion_matrix(label_test, pre)\n",
    "print(\"Confusion matrix is shown below.\")\n",
    "print(co_mat)"
   ]
  }
 ],
 "metadata": {
  "kernelspec": {
   "display_name": "Python 3",
   "language": "python",
   "name": "python3"
  },
  "language_info": {
   "codemirror_mode": {
    "name": "ipython",
    "version": 3
   },
   "file_extension": ".py",
   "mimetype": "text/x-python",
   "name": "python",
   "nbconvert_exporter": "python",
   "pygments_lexer": "ipython3",
   "version": "3.6.4"
  }
 },
 "nbformat": 4,
 "nbformat_minor": 2
}
