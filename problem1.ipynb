{
 "cells": [
  {
   "cell_type": "code",
   "execution_count": 9,
   "metadata": {
    "scrolled": true
   },
   "outputs": [
    {
     "data": {
      "image/png": "[encoded data removed]",
      "text/plain": [
       "<Figure size 432x288 with 1 Axes>"
      ]
     },
     "metadata": {},
     "output_type": "display_data"
    },
    {
     "name": "stdout",
     "output_type": "stream",
     "text": [
      "[-1.72760123]\n"
     ]
    }
   ],
   "source": [
    "from sympy import *\n",
    "import numpy as np\n",
    "import matplotlib.pyplot as plt\n",
    "import time\n",
    "\n",
    "# definition of constant values\n",
    "n = 40\n",
    "lam = 1\n",
    "\n",
    "# create dataset\n",
    "omega = np.random.randn(1)\n",
    "noise = 0.8 * np.random.randn(n)\n",
    "x = np.random.randn(n, 2)\n",
    "y = np.where(omega * x[:, 0] + x[:, 1] + noise > 0, 1, -1)\n",
    "\n",
    "# plot dataset\n",
    "def plot_dataset(show=True, axes=plt):\n",
    "    for data, label in zip(x,y):\n",
    "        color= 'b' if label < 0 else 'r'\n",
    "        axes.plot(data[0], data[1], color+'o')\n",
    "    if show: plt.show()\n",
    "        \n",
    "plot_dataset()\n",
    "print(omega)"
   ]
  },
  {
   "cell_type": "code",
   "execution_count": 10,
   "metadata": {},
   "outputs": [],
   "source": [
    "# declation of variables\n",
    "w1 = Symbol('w1')\n",
    "w2 = Symbol('w2')\n",
    "w = np.array([w1, w2])\n",
    "\n",
    "# define J(w)\n",
    "j = sum([log(exp(tmp) + 1) for tmp in -y * np.sum(w * x, axis=1)]) + lam * sum(w * w) \n",
    "    \n",
    "\n",
    "# batch steepest gradient method\n",
    "def gradient_method(epoch=10, lr=0.2):\n",
    "    grad = diff(j, w)\n",
    "    omega = np.ones_like(w)\n",
    "    js = []\n",
    "    t = time.time()\n",
    "    for step in range(epoch + 1):\n",
    "        js.append(j.subs([(w1, omega[0]), (w2, omega[1])]))\n",
    "        print('{:02d} step:\\tJ={}\\tw={}'.format(step, js[step], omega))\n",
    "        omega = omega - lr * grad.subs([(w1, omega[0]), (w2, omega[1])])\n",
    "    print(\"Finish training in {} ms.\".format(time.time() - t))\n",
    "        \n",
    "    fig, (axL, axR) = plt.subplots(ncols=2, figsize=(10,4))\n",
    "    # plot J_t\n",
    "    axL.plot(np.arange(epoch+1), np.array(js))\n",
    "    # plot datasets and draw boundary\n",
    "    axR.set_ylim([x[:, 1].min() - 1, x[:, 1].max() + 1])\n",
    "    v1 = np.linspace(x[:, 0].min(), x[:, 0].max(), 100)\n",
    "    v2 = - omega[0] / omega[1] * v1\n",
    "    axR.plot(v1, v2, 'g-')\n",
    "    plot_dataset(False, axes=axR)\n",
    "    \n",
    "    \n",
    "# Newton based method\n",
    "def newton_method(epoch=10):\n",
    "    t= time.time()\n",
    "    omega = np.ones_like(w)\n",
    "    d1, d2 = Symbol('d1'), Symbol('d2')\n",
    "    d = np.array([d1, d2])\n",
    "    js = []\n",
    "    for step in range(epoch + 1):\n",
    "        js.append(j.subs([(w1, omega[0]), (w2, omega[1])]))\n",
    "        print('{:02d} step:\\tJ={}\\tw={}'.format(step, js[step], omega))\n",
    "        grad = diff(j, w).subs([(w1, omega[0]), (w2, omega[1])])\n",
    "        hesian = np.array(diff(j, w, 2).subs([(w1, omega[0]), (w2, omega[1])])).reshape(2, 2)\n",
    "        omega  += np.array(list(solve(np.dot(hesian, d) + grad).values()))\n",
    "    print(\"Finish training in {} ms.\".format(time.time() - t))\n",
    "        \n",
    "    fig, (axL, axR) = plt.subplots(ncols=2, figsize=(10,4))\n",
    "    # plot J_t\n",
    "    axL.plot(np.arange(epoch+1), np.array(js))\n",
    "    # plot datasets and draw boundary\n",
    "    axR.set_ylim([x[:, 1].min() - 1, x[:, 1].max() + 1])\n",
    "    v1 = np.linspace(x[:, 0].min(), x[:, 0].max(), 100)\n",
    "    v2 = - omega[0] / omega[1] * v1\n",
    "    axR.plot(v1, v2, 'g-')\n",
    "    plot_dataset(False, axes=axR)"
   ]
  },
  {
   "cell_type": "code",
   "execution_count": 11,
   "metadata": {},
   "outputs": [
    {
     "name": "stdout",
     "output_type": "stream",
     "text": [
      "00 step:\tJ=49.9655645766124\tw=[1 1]\n",
      "01 step:\tJ=32.8901197657918\tw=[-3.84483925792007 -0.356408352421527]\n",
      "02 step:\tJ=18.4407673499315\tw=[-2.06588616924298 0.848188809916864]\n",
      "03 step:\tJ=17.5947658366734\tw=[-1.57421211589646 0.617759585755042]\n",
      "04 step:\tJ=17.5793545987622\tw=[-1.55119651727729 0.528357833814109]\n",
      "05 step:\tJ=17.5781337384207\tw=[-1.52712383519538 0.561518164137345]\n",
      "06 step:\tJ=17.5775395745222\tw=[-1.54452889283103 0.537980131548856]\n",
      "07 step:\tJ=17.5772217950682\tw=[-1.53195972236252 0.554859604065898]\n",
      "08 step:\tJ=17.5770629775708\tw=[-1.54093174688500 0.542760566463555]\n",
      "09 step:\tJ=17.5769796313864\tw=[-1.53447661968314 0.551438947210836]\n",
      "10 step:\tJ=17.5769373933620\tw=[-1.53909471038150 0.545216830996097]\n",
      "Finish training in 2.2879269123077393 ms.\n"
     ]
    },
    {
     "data": {
      "image/png": "[encoded data removed]",
      "text/plain": [
       "<Figure size 720x288 with 2 Axes>"
      ]
     },
     "metadata": {},
     "output_type": "display_data"
    }
   ],
   "source": [
    "# run the batch steepest gradient method and show the result.\n",
    "gradient_method()"
   ]
  },
  {
   "cell_type": "code",
   "execution_count": null,
   "metadata": {},
   "outputs": [
    {
     "name": "stdout",
     "output_type": "stream",
     "text": [
      "00 step:\tJ=49.9655645766124\tw=[1 1]\n",
      "01 step:\tJ=23.6073482841045\tw=[-2.46253566025300 -0.405319939889315]\n",
      "02 step:\tJ=19.0807084018736\tw=[-0.987711012236914 0.764060048342726]\n",
      "03 step:\tJ=17.6027474999910\tw=[-1.45018904191655 0.555453839688346]\n",
      "04 step:\tJ=17.5769109235808\tw=[-1.53478631367859 0.547963996131572]\n",
      "05 step:\tJ=17.5768923335759\tw=[-1.53715755109642 0.547816161307765]\n",
      "06 step:\tJ=17.5768923335655\tw=[-1.53715932857041 0.547816071565802]\n",
      "07 step:\tJ=17.5768923335655\tw=[-1.53715932857140 0.547816071565762]\n",
      "08 step:\tJ=17.5768923335656\tw=[-1.53715932857140 0.547816071565762]\n",
      "09 step:\tJ=17.5768923335655\tw=[-1.53715932857140 0.547816071565762]\n"
     ]
    }
   ],
   "source": [
    "# run the Newton based method and show the result.\n",
    "newton_method()"
   ]
  }
 ],
 "metadata": {
  "kernelspec": {
   "display_name": "Python 3",
   "language": "python",
   "name": "python3"
  },
  "language_info": {
   "codemirror_mode": {
    "name": "ipython",
    "version": 3
   },
   "file_extension": ".py",
   "mimetype": "text/x-python",
   "name": "python",
   "nbconvert_exporter": "python",
   "pygments_lexer": "ipython3",
   "version": "3.6.4"
  }
 },
 "nbformat": 4,
 "nbformat_minor": 2
}
